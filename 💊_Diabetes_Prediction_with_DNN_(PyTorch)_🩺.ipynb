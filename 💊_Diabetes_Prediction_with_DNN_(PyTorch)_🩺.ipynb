{
  "metadata": {
    "kernelspec": {
      "display_name": "Python 3",
      "name": "python3"
    },
    "language_info": {
      "pygments_lexer": "ipython3",
      "nbconvert_exporter": "python",
      "version": "3.6.4",
      "file_extension": ".py",
      "codemirror_mode": {
        "name": "ipython",
        "version": 3
      },
      "name": "python",
      "mimetype": "text/x-python"
    },
    "colab": {
      "name": "💊 Diabetes Prediction with DNN (PyTorch) 🩺",
      "provenance": [],
      "gpuType": "T4",
      "include_colab_link": true
    },
    "accelerator": "GPU"
  },
  "nbformat_minor": 0,
  "nbformat": 4,
  "cells": [
    {
      "cell_type": "markdown",
      "metadata": {
        "id": "view-in-github",
        "colab_type": "text"
      },
      "source": [
        "<a href=\"https://colab.research.google.com/github/MdSaifulIslamSajol/GDdemo/blob/main/%F0%9F%92%8A_Diabetes_Prediction_with_DNN_(PyTorch)_%F0%9F%A9%BA.ipynb\" target=\"_parent\"><img src=\"https://colab.research.google.com/assets/colab-badge.svg\" alt=\"Open In Colab\"/></a>"
      ]
    },
    {
      "source": [
        "\n",
        "# IMPORTANT: RUN THIS CELL IN ORDER TO IMPORT YOUR KAGGLE DATA SOURCES\n",
        "# TO THE CORRECT LOCATION (/kaggle/input) IN YOUR NOTEBOOK,\n",
        "# THEN FEEL FREE TO DELETE THIS CELL.\n",
        "# NOTE: THIS NOTEBOOK ENVIRONMENT DIFFERS FROM KAGGLE'S PYTHON\n",
        "# ENVIRONMENT SO THERE MAY BE MISSING LIBRARIES USED BY YOUR\n",
        "# NOTEBOOK.\n",
        "\n",
        "import os\n",
        "import sys\n",
        "from tempfile import NamedTemporaryFile\n",
        "from urllib.request import urlopen\n",
        "from urllib.parse import unquote, urlparse\n",
        "from urllib.error import HTTPError\n",
        "from zipfile import ZipFile\n",
        "import tarfile\n",
        "import shutil\n",
        "\n",
        "CHUNK_SIZE = 40960\n",
        "DATA_SOURCE_MAPPING = 'diabetes-health-indicators-dataset:https%3A%2F%2Fstorage.googleapis.com%2Fkaggle-data-sets%2F1703281%2F2789260%2Fbundle%2Farchive.zip%3FX-Goog-Algorithm%3DGOOG4-RSA-SHA256%26X-Goog-Credential%3Dgcp-kaggle-com%2540kaggle-161607.iam.gserviceaccount.com%252F20240409%252Fauto%252Fstorage%252Fgoog4_request%26X-Goog-Date%3D20240409T155716Z%26X-Goog-Expires%3D259200%26X-Goog-SignedHeaders%3Dhost%26X-Goog-Signature%3Dc391096f064c4a6ac9c5843191792f87584b8984d2d46f1d39649fc35cc4823f81d3b9447ab0883e6648a0b40d888e7d41c6b41a9a9f952dbc1ebbee3df760b0c8c9d746b789bd75cc15ada2ff99dfa9f591d33600ecc62fdda63ac8cf7e58f3e632a990d26737d1a2f06a340c1b9aef8273231fd2bb746950b333b1773698f5783dc966d637f821acda7a71af5f01cc38e95034fe96a1d0466041edf11836080eb92f2f4cacaeefaa64f861a28bdf4dcf24e3275d41e737c89c01b478f2c85f07c4ffc68fab6b37f3a8572af55056fc42f1aef19d45702ecd9ff157356897b4ee688553fcb6656a314e4f2667ba4f99cbee4fc3ef096a66c500625d7124146d'\n",
        "\n",
        "KAGGLE_INPUT_PATH='/kaggle/input'\n",
        "KAGGLE_WORKING_PATH='/kaggle/working'\n",
        "KAGGLE_SYMLINK='kaggle'\n",
        "\n",
        "!umount /kaggle/input/ 2> /dev/null\n",
        "shutil.rmtree('/kaggle/input', ignore_errors=True)\n",
        "os.makedirs(KAGGLE_INPUT_PATH, 0o777, exist_ok=True)\n",
        "os.makedirs(KAGGLE_WORKING_PATH, 0o777, exist_ok=True)\n",
        "\n",
        "try:\n",
        "  os.symlink(KAGGLE_INPUT_PATH, os.path.join(\"..\", 'input'), target_is_directory=True)\n",
        "except FileExistsError:\n",
        "  pass\n",
        "try:\n",
        "  os.symlink(KAGGLE_WORKING_PATH, os.path.join(\"..\", 'working'), target_is_directory=True)\n",
        "except FileExistsError:\n",
        "  pass\n",
        "\n",
        "for data_source_mapping in DATA_SOURCE_MAPPING.split(','):\n",
        "    directory, download_url_encoded = data_source_mapping.split(':')\n",
        "    download_url = unquote(download_url_encoded)\n",
        "    filename = urlparse(download_url).path\n",
        "    destination_path = os.path.join(KAGGLE_INPUT_PATH, directory)\n",
        "    try:\n",
        "        with urlopen(download_url) as fileres, NamedTemporaryFile() as tfile:\n",
        "            total_length = fileres.headers['content-length']\n",
        "            print(f'Downloading {directory}, {total_length} bytes compressed')\n",
        "            dl = 0\n",
        "            data = fileres.read(CHUNK_SIZE)\n",
        "            while len(data) > 0:\n",
        "                dl += len(data)\n",
        "                tfile.write(data)\n",
        "                done = int(50 * dl / int(total_length))\n",
        "                sys.stdout.write(f\"\\r[{'=' * done}{' ' * (50-done)}] {dl} bytes downloaded\")\n",
        "                sys.stdout.flush()\n",
        "                data = fileres.read(CHUNK_SIZE)\n",
        "            if filename.endswith('.zip'):\n",
        "              with ZipFile(tfile) as zfile:\n",
        "                zfile.extractall(destination_path)\n",
        "            else:\n",
        "              with tarfile.open(tfile.name) as tarfile:\n",
        "                tarfile.extractall(destination_path)\n",
        "            print(f'\\nDownloaded and uncompressed: {directory}')\n",
        "    except HTTPError as e:\n",
        "        print(f'Failed to load (likely expired) {download_url} to path {destination_path}')\n",
        "        continue\n",
        "    except OSError as e:\n",
        "        print(f'Failed to load {download_url} to path {destination_path}')\n",
        "        continue\n",
        "\n",
        "print('Data source import complete.')\n"
      ],
      "metadata": {
        "id": "E3bNS8Vjk_hb"
      },
      "cell_type": "code",
      "outputs": [],
      "execution_count": null
    },
    {
      "cell_type": "markdown",
      "source": [
        "Let's predict Diabetes using ```'diabetes_binary_5050split_health_indicators_BRFSS2015.csv'``` file.**"
      ],
      "metadata": {
        "id": "r_1TH1wQk_hn"
      }
    },
    {
      "cell_type": "code",
      "source": [
        "import numpy as np\n",
        "import pandas as pd\n",
        "\n",
        "import torch\n",
        "import torch.nn as nn\n",
        "\n",
        "from sklearn.model_selection import train_test_split\n",
        "from sklearn.preprocessing import MinMaxScaler\n",
        "import matplotlib.pyplot as plt"
      ],
      "metadata": {
        "_uuid": "8f2839f25d086af736a60e9eeb907d3b93b6e0e5",
        "_cell_guid": "b1076dfc-b9ad-4769-8c92-a6c4dae69d19",
        "execution": {
          "iopub.status.busy": "2021-11-16T08:15:28.369883Z",
          "iopub.execute_input": "2021-11-16T08:15:28.370323Z",
          "iopub.status.idle": "2021-11-16T08:15:30.480864Z",
          "shell.execute_reply.started": "2021-11-16T08:15:28.370132Z",
          "shell.execute_reply": "2021-11-16T08:15:30.480135Z"
        },
        "trusted": true,
        "id": "3UHgzBPxk_hq"
      },
      "execution_count": null,
      "outputs": []
    },
    {
      "cell_type": "code",
      "source": [
        "# Set random seed and Use 'cuda' GPU\n",
        "\n",
        "torch.manual_seed(0)\n",
        "\n",
        "if torch.cuda.is_available():\n",
        "    device = 'cuda'\n",
        "    torch.cuda.manual_seed_all(0)\n",
        "\n",
        "else:\n",
        "    device = 'cpu'"
      ],
      "metadata": {
        "execution": {
          "iopub.status.busy": "2021-11-16T08:15:30.482672Z",
          "iopub.execute_input": "2021-11-16T08:15:30.482939Z",
          "iopub.status.idle": "2021-11-16T08:15:30.534432Z",
          "shell.execute_reply.started": "2021-11-16T08:15:30.482887Z",
          "shell.execute_reply": "2021-11-16T08:15:30.533717Z"
        },
        "trusted": true,
        "id": "pLpkyrRPk_hs"
      },
      "execution_count": null,
      "outputs": []
    },
    {
      "cell_type": "code",
      "source": [
        "# Get Total Dataset\n",
        "df_train = pd.read_csv('../input/diabetes-health-indicators-dataset/diabetes_binary_5050split_health_indicators_BRFSS2015.csv')"
      ],
      "metadata": {
        "execution": {
          "iopub.status.busy": "2021-11-16T08:15:30.537444Z",
          "iopub.execute_input": "2021-11-16T08:15:30.539021Z",
          "iopub.status.idle": "2021-11-16T08:15:30.812064Z",
          "shell.execute_reply.started": "2021-11-16T08:15:30.538973Z",
          "shell.execute_reply": "2021-11-16T08:15:30.811304Z"
        },
        "trusted": true,
        "id": "1ha1X_n3k_ht"
      },
      "execution_count": null,
      "outputs": []
    },
    {
      "cell_type": "code",
      "source": [
        "df_train.shape"
      ],
      "metadata": {
        "execution": {
          "iopub.status.busy": "2021-11-16T08:15:30.813337Z",
          "iopub.execute_input": "2021-11-16T08:15:30.813614Z",
          "iopub.status.idle": "2021-11-16T08:15:30.82131Z",
          "shell.execute_reply.started": "2021-11-16T08:15:30.81358Z",
          "shell.execute_reply": "2021-11-16T08:15:30.820646Z"
        },
        "trusted": true,
        "id": "roPAqodZk_hu"
      },
      "execution_count": null,
      "outputs": []
    },
    {
      "cell_type": "code",
      "source": [
        "df_train.head()"
      ],
      "metadata": {
        "execution": {
          "iopub.status.busy": "2021-11-16T08:15:30.82357Z",
          "iopub.execute_input": "2021-11-16T08:15:30.824199Z",
          "iopub.status.idle": "2021-11-16T08:15:30.861861Z",
          "shell.execute_reply.started": "2021-11-16T08:15:30.824162Z",
          "shell.execute_reply": "2021-11-16T08:15:30.861161Z"
        },
        "trusted": true,
        "id": "O3CZs0oAk_hw"
      },
      "execution_count": null,
      "outputs": []
    },
    {
      "cell_type": "code",
      "source": [
        "df_train['Diabetes_binary'].value_counts()"
      ],
      "metadata": {
        "execution": {
          "iopub.status.busy": "2021-11-16T08:15:30.863047Z",
          "iopub.execute_input": "2021-11-16T08:15:30.863482Z",
          "iopub.status.idle": "2021-11-16T08:15:30.875423Z",
          "shell.execute_reply.started": "2021-11-16T08:15:30.863445Z",
          "shell.execute_reply": "2021-11-16T08:15:30.874496Z"
        },
        "trusted": true,
        "id": "jUU4RHREk_hx"
      },
      "execution_count": null,
      "outputs": []
    },
    {
      "cell_type": "code",
      "source": [
        "df_train.info()"
      ],
      "metadata": {
        "execution": {
          "iopub.status.busy": "2021-11-16T08:15:30.876656Z",
          "iopub.execute_input": "2021-11-16T08:15:30.878722Z",
          "iopub.status.idle": "2021-11-16T08:15:30.902104Z",
          "shell.execute_reply.started": "2021-11-16T08:15:30.878681Z",
          "shell.execute_reply": "2021-11-16T08:15:30.90138Z"
        },
        "trusted": true,
        "id": "82KG6daHk_h0"
      },
      "execution_count": null,
      "outputs": []
    },
    {
      "cell_type": "markdown",
      "source": [
        "As I can see with ```df_train.head()``` and ```df_train.info()```, it would be better to convert the values into **int**."
      ],
      "metadata": {
        "id": "WY4LxJRIk_h1"
      }
    },
    {
      "cell_type": "code",
      "source": [
        "df_train = df_train.astype(int)"
      ],
      "metadata": {
        "execution": {
          "iopub.status.busy": "2021-11-16T08:15:30.903249Z",
          "iopub.execute_input": "2021-11-16T08:15:30.903966Z",
          "iopub.status.idle": "2021-11-16T08:15:30.914915Z",
          "shell.execute_reply.started": "2021-11-16T08:15:30.903922Z",
          "shell.execute_reply": "2021-11-16T08:15:30.913967Z"
        },
        "trusted": true,
        "id": "sqldBQVWk_h2"
      },
      "execution_count": null,
      "outputs": []
    },
    {
      "cell_type": "markdown",
      "source": [
        "# Data Preparation"
      ],
      "metadata": {
        "id": "f1M4jvlXk_h4"
      }
    },
    {
      "cell_type": "markdown",
      "source": [
        "## Dataset Split\n",
        "\n",
        "Train set + Validation set + Test set"
      ],
      "metadata": {
        "id": "9dO4BVOIk_h5"
      }
    },
    {
      "cell_type": "code",
      "source": [
        "# Dataset split\n",
        "X = df_train.drop('Diabetes_binary', axis=1)\n",
        "y = df_train['Diabetes_binary']"
      ],
      "metadata": {
        "execution": {
          "iopub.status.busy": "2021-11-16T08:38:34.029959Z",
          "iopub.execute_input": "2021-11-16T08:38:34.030386Z",
          "iopub.status.idle": "2021-11-16T08:38:34.04248Z",
          "shell.execute_reply.started": "2021-11-16T08:38:34.03035Z",
          "shell.execute_reply": "2021-11-16T08:38:34.041705Z"
        },
        "trusted": true,
        "id": "Dx4-l_Tik_h6"
      },
      "execution_count": null,
      "outputs": []
    },
    {
      "cell_type": "code",
      "source": [
        "# Use 10 % of total data as Test set and the rest as (Train + Validation) set\n",
        "X_train_val, X_test, y_train_val, y_test = train_test_split(X, y, test_size=0.1)\n",
        "\n",
        "# Use 20 % of (Train + Validation) set as Validation set\n",
        "X_train, X_val, y_train, y_val = train_test_split(X_train_val, y_train_val, test_size=0.2)"
      ],
      "metadata": {
        "execution": {
          "iopub.status.busy": "2021-11-16T08:38:37.207994Z",
          "iopub.execute_input": "2021-11-16T08:38:37.20825Z",
          "iopub.status.idle": "2021-11-16T08:38:37.235698Z",
          "shell.execute_reply.started": "2021-11-16T08:38:37.208222Z",
          "shell.execute_reply": "2021-11-16T08:38:37.235002Z"
        },
        "trusted": true,
        "id": "LtaKs0fNk_h7"
      },
      "execution_count": null,
      "outputs": []
    },
    {
      "cell_type": "markdown",
      "source": [
        "## Scaling"
      ],
      "metadata": {
        "id": "uH4F3NF_k_h9"
      }
    },
    {
      "cell_type": "code",
      "source": [
        "scaler = MinMaxScaler()\n",
        "X_train = scaler.fit_transform(X_train)\n",
        "X_val = scaler.transform(X_val)"
      ],
      "metadata": {
        "execution": {
          "iopub.status.busy": "2021-11-16T08:38:38.879139Z",
          "iopub.execute_input": "2021-11-16T08:38:38.880024Z",
          "iopub.status.idle": "2021-11-16T08:38:38.898042Z",
          "shell.execute_reply.started": "2021-11-16T08:38:38.879973Z",
          "shell.execute_reply": "2021-11-16T08:38:38.897342Z"
        },
        "trusted": true,
        "id": "5vWOCuq1k_h9"
      },
      "execution_count": null,
      "outputs": []
    },
    {
      "cell_type": "markdown",
      "source": [
        "## Convert into Tensor"
      ],
      "metadata": {
        "id": "pVPmVxxXk_h-"
      }
    },
    {
      "cell_type": "code",
      "source": [
        "X_train = torch.FloatTensor(X_train).to(device)\n",
        "X_val = torch.FloatTensor(X_val).to(device)\n",
        "\n",
        "y_train = torch.LongTensor(y_train.values).to(device)\n",
        "y_val = torch.LongTensor(y_val.values).to(device)"
      ],
      "metadata": {
        "execution": {
          "iopub.status.busy": "2021-11-16T08:38:39.839404Z",
          "iopub.execute_input": "2021-11-16T08:38:39.839667Z",
          "iopub.status.idle": "2021-11-16T08:38:39.84834Z",
          "shell.execute_reply.started": "2021-11-16T08:38:39.839638Z",
          "shell.execute_reply": "2021-11-16T08:38:39.84747Z"
        },
        "trusted": true,
        "id": "4BGP9fmMk_h-"
      },
      "execution_count": null,
      "outputs": []
    },
    {
      "cell_type": "markdown",
      "source": [
        "# Model"
      ],
      "metadata": {
        "id": "hX_DrOx6k_h_"
      }
    },
    {
      "cell_type": "code",
      "source": [
        "# Hyperparameter\n",
        "learning_rate = 1e-1\n",
        "n_epochs = 500\n",
        "drop_prob = 0.3"
      ],
      "metadata": {
        "execution": {
          "iopub.status.busy": "2021-11-16T08:38:40.727645Z",
          "iopub.execute_input": "2021-11-16T08:38:40.727911Z",
          "iopub.status.idle": "2021-11-16T08:38:40.732086Z",
          "shell.execute_reply.started": "2021-11-16T08:38:40.727866Z",
          "shell.execute_reply": "2021-11-16T08:38:40.731332Z"
        },
        "trusted": true,
        "id": "h7CqmjGtk_h_"
      },
      "execution_count": null,
      "outputs": []
    },
    {
      "cell_type": "code",
      "source": [
        "X_train.shape"
      ],
      "metadata": {
        "execution": {
          "iopub.status.busy": "2021-11-16T08:38:41.093753Z",
          "iopub.execute_input": "2021-11-16T08:38:41.094335Z",
          "iopub.status.idle": "2021-11-16T08:38:41.099743Z",
          "shell.execute_reply.started": "2021-11-16T08:38:41.094297Z",
          "shell.execute_reply": "2021-11-16T08:38:41.099041Z"
        },
        "trusted": true,
        "id": "6A2fTej3k_iA"
      },
      "execution_count": null,
      "outputs": []
    },
    {
      "cell_type": "code",
      "source": [
        "# Model\n",
        "class Net(nn.Module):\n",
        "    def __init__(self):\n",
        "        super(Net, self).__init__()\n",
        "\n",
        "        self.fc1 = nn.Linear(21, 512)\n",
        "        self.fc2 = nn.Linear(512, 256)\n",
        "        self.fc3 = nn.Linear(256, 256)\n",
        "        self.fc4 = nn.Linear(256, 64)\n",
        "        self.fc5 = nn.Linear(64, 2)\n",
        "\n",
        "        self.relu = nn.ReLU()\n",
        "        self.dropout = nn.Dropout(p=drop_prob)\n",
        "\n",
        "        for m in self.modules():\n",
        "            if isinstance(m, nn.Linear):\n",
        "                nn.init.xavier_uniform_(m.weight.data)\n",
        "\n",
        "    def forward(self, x):\n",
        "        out = self.fc1(x)\n",
        "        out = self.relu(out)\n",
        "        out = self.dropout(out)\n",
        "\n",
        "        out = self.fc2(out)\n",
        "        out = self.relu(out)\n",
        "        out = self.dropout(out)\n",
        "\n",
        "        out = self.fc3(out)\n",
        "        out = self.relu(out)\n",
        "        out = self.dropout(out)\n",
        "\n",
        "        out = self.fc4(out)\n",
        "        out = self.relu(out)\n",
        "        out = self.dropout(out)\n",
        "\n",
        "        out = self.fc5(out)\n",
        "        return out"
      ],
      "metadata": {
        "execution": {
          "iopub.status.busy": "2021-11-16T08:38:41.479479Z",
          "iopub.execute_input": "2021-11-16T08:38:41.479924Z",
          "iopub.status.idle": "2021-11-16T08:38:41.490266Z",
          "shell.execute_reply.started": "2021-11-16T08:38:41.479871Z",
          "shell.execute_reply": "2021-11-16T08:38:41.488712Z"
        },
        "trusted": true,
        "id": "zfFK3bgFk_iB"
      },
      "execution_count": null,
      "outputs": []
    },
    {
      "cell_type": "code",
      "source": [
        "model = Net().to(device)\n",
        "\n",
        "# Optimizer and Loss function\n",
        "optimizer = torch.optim.SGD(model.parameters(), lr=learning_rate, momentum=0.9)\n",
        "loss_fn = nn.CrossEntropyLoss()"
      ],
      "metadata": {
        "execution": {
          "iopub.status.busy": "2021-11-16T08:38:41.935501Z",
          "iopub.execute_input": "2021-11-16T08:38:41.935751Z",
          "iopub.status.idle": "2021-11-16T08:38:41.947272Z",
          "shell.execute_reply.started": "2021-11-16T08:38:41.935723Z",
          "shell.execute_reply": "2021-11-16T08:38:41.94653Z"
        },
        "trusted": true,
        "id": "NwumG_P0k_iB"
      },
      "execution_count": null,
      "outputs": []
    },
    {
      "cell_type": "markdown",
      "source": [
        "# Train\n",
        "\n",
        "Train with Validation"
      ],
      "metadata": {
        "id": "xotVlsfik_iC"
      }
    },
    {
      "cell_type": "code",
      "source": [
        "train_loss = list()\n",
        "val_loss = list()\n",
        "\n",
        "for epoch in range(1, n_epochs+1):\n",
        "    model.train()\n",
        "    H = model(X_train)\n",
        "    loss = loss_fn(H, y_train)\n",
        "\n",
        "    train_loss.append(loss.item())\n",
        "\n",
        "    optimizer.zero_grad()\n",
        "    loss.backward()\n",
        "    optimizer.step()\n",
        "\n",
        "    acc = (torch.argmax(H, dim=1) == y_train).float().mean().item()\n",
        "\n",
        "    model.eval()\n",
        "    with torch.no_grad():\n",
        "        H_val = model(X_val)\n",
        "        loss_val = loss_fn(H_val, y_val)\n",
        "        acc_val = (torch.argmax(H_val, dim=1) == y_val).float().mean().item()\n",
        "\n",
        "        val_loss.append(loss_val.item())\n",
        "\n",
        "    if epoch % 50 == 0:\n",
        "        print('Epoch {:4d} / {}, Cost : {:.4f}, Acc : {:.2f} %, Val Cost : {:.4f}, Val Acc : {:.2f} %'.format(\n",
        "            epoch, n_epochs, loss.item(), acc*100, loss_val.item(), acc_val*100))"
      ],
      "metadata": {
        "execution": {
          "iopub.status.busy": "2021-11-16T08:38:42.827129Z",
          "iopub.execute_input": "2021-11-16T08:38:42.82786Z",
          "iopub.status.idle": "2021-11-16T08:38:53.595316Z",
          "shell.execute_reply.started": "2021-11-16T08:38:42.827822Z",
          "shell.execute_reply": "2021-11-16T08:38:53.593825Z"
        },
        "trusted": true,
        "id": "pvtjWIJEk_iC"
      },
      "execution_count": null,
      "outputs": []
    },
    {
      "cell_type": "markdown",
      "source": [
        "Let's visualize the Train loss and Validadtion loss."
      ],
      "metadata": {
        "execution": {
          "iopub.status.busy": "2021-11-16T08:29:44.046552Z",
          "iopub.execute_input": "2021-11-16T08:29:44.047381Z",
          "iopub.status.idle": "2021-11-16T08:29:44.051101Z",
          "shell.execute_reply.started": "2021-11-16T08:29:44.047305Z",
          "shell.execute_reply": "2021-11-16T08:29:44.050258Z"
        },
        "id": "EOuZZXONk_iC"
      }
    },
    {
      "cell_type": "code",
      "source": [
        "plt.figure(figsize=(12, 6))\n",
        "plt.plot(train_loss, label='Train')\n",
        "plt.plot(val_loss, label='Validation')\n",
        "\n",
        "plt.xlabel('Epoch')\n",
        "plt.ylabel('Loss')\n",
        "plt.legend()\n",
        "plt.show()"
      ],
      "metadata": {
        "execution": {
          "iopub.status.busy": "2021-11-16T08:39:51.370334Z",
          "iopub.execute_input": "2021-11-16T08:39:51.370771Z",
          "iopub.status.idle": "2021-11-16T08:39:51.594455Z",
          "shell.execute_reply.started": "2021-11-16T08:39:51.370734Z",
          "shell.execute_reply": "2021-11-16T08:39:51.593743Z"
        },
        "trusted": true,
        "id": "EMzh3oZ9k_iD"
      },
      "execution_count": null,
      "outputs": []
    },
    {
      "cell_type": "markdown",
      "source": [
        "Validation loss is lower than Train loss because of 'Dropout' layer."
      ],
      "metadata": {
        "id": "Ly8zxZskk_iD"
      }
    },
    {
      "cell_type": "markdown",
      "source": [
        "# Predict Test set"
      ],
      "metadata": {
        "id": "OqIc8Vwwk_iF"
      }
    },
    {
      "cell_type": "markdown",
      "source": [
        "Use the whole train set(Train + Validation above)."
      ],
      "metadata": {
        "id": "Z10TyUVzk_iF"
      }
    },
    {
      "cell_type": "code",
      "source": [
        "# Scaling\n",
        "scaler = MinMaxScaler()\n",
        "\n",
        "X_train_val = scaler.fit_transform(X_train_val)\n",
        "X_test = scaler.transform(X_test)"
      ],
      "metadata": {
        "execution": {
          "iopub.status.busy": "2021-11-16T08:44:21.623597Z",
          "iopub.execute_input": "2021-11-16T08:44:21.623856Z",
          "iopub.status.idle": "2021-11-16T08:44:21.644041Z",
          "shell.execute_reply.started": "2021-11-16T08:44:21.623826Z",
          "shell.execute_reply": "2021-11-16T08:44:21.643311Z"
        },
        "trusted": true,
        "id": "jkU6DA5Ck_iG"
      },
      "execution_count": null,
      "outputs": []
    },
    {
      "cell_type": "code",
      "source": [
        "# To Tensor\n",
        "X_train_val = torch.FloatTensor(X_train_val).to(device)\n",
        "X_test = torch.FloatTensor(X_test).to(device)\n",
        "\n",
        "y_train_val = torch.LongTensor(y_train_val.values).to(device)\n",
        "y_test = torch.LongTensor(y_test.values).to(device)"
      ],
      "metadata": {
        "execution": {
          "iopub.status.busy": "2021-11-16T08:44:22.236709Z",
          "iopub.execute_input": "2021-11-16T08:44:22.236983Z",
          "iopub.status.idle": "2021-11-16T08:44:22.247218Z",
          "shell.execute_reply.started": "2021-11-16T08:44:22.236954Z",
          "shell.execute_reply": "2021-11-16T08:44:22.246418Z"
        },
        "trusted": true,
        "id": "E0hapQ_hk_iG"
      },
      "execution_count": null,
      "outputs": []
    },
    {
      "cell_type": "code",
      "source": [
        "model = Net().to(device)\n",
        "\n",
        "# Optimizer and Loss function\n",
        "optimizer = torch.optim.SGD(model.parameters(), lr=learning_rate, momentum=0.9)\n",
        "\n",
        "loss_fn = nn.CrossEntropyLoss()"
      ],
      "metadata": {
        "execution": {
          "iopub.status.busy": "2021-11-16T08:44:37.103717Z",
          "iopub.execute_input": "2021-11-16T08:44:37.103982Z",
          "iopub.status.idle": "2021-11-16T08:44:37.11806Z",
          "shell.execute_reply.started": "2021-11-16T08:44:37.103952Z",
          "shell.execute_reply": "2021-11-16T08:44:37.117222Z"
        },
        "trusted": true,
        "id": "aB6ku97Gk_iI"
      },
      "execution_count": null,
      "outputs": []
    },
    {
      "cell_type": "code",
      "source": [
        "# Train\n",
        "for epoch in range(1, n_epochs+1):\n",
        "    model.train()\n",
        "    H = model(X_train)\n",
        "    loss = loss_fn(H, y_train)\n",
        "\n",
        "    optimizer.zero_grad()\n",
        "    loss.backward()\n",
        "    optimizer.step()\n",
        "\n",
        "    acc = (torch.argmax(H, dim=1) == y_train).float().mean().item()\n",
        "\n",
        "    if epoch % 50 == 0:\n",
        "        print('Epoch {:4d} / {}, Cost : {:.4f}, Acc : {:.2f} %'.format(\n",
        "            epoch, n_epochs, loss.item(), acc*100))"
      ],
      "metadata": {
        "execution": {
          "iopub.status.busy": "2021-11-16T08:45:08.261589Z",
          "iopub.execute_input": "2021-11-16T08:45:08.261842Z",
          "iopub.status.idle": "2021-11-16T08:45:17.905852Z",
          "shell.execute_reply.started": "2021-11-16T08:45:08.261815Z",
          "shell.execute_reply": "2021-11-16T08:45:17.905058Z"
        },
        "trusted": true,
        "id": "fyrzx6pfk_iI"
      },
      "execution_count": null,
      "outputs": []
    },
    {
      "cell_type": "code",
      "source": [
        "# Predict Test set\n",
        "model.eval()\n",
        "with torch.no_grad():\n",
        "    pred = model(X_test)"
      ],
      "metadata": {
        "execution": {
          "iopub.status.busy": "2021-11-16T08:46:01.685961Z",
          "iopub.execute_input": "2021-11-16T08:46:01.686429Z",
          "iopub.status.idle": "2021-11-16T08:46:01.692077Z",
          "shell.execute_reply.started": "2021-11-16T08:46:01.686392Z",
          "shell.execute_reply": "2021-11-16T08:46:01.691335Z"
        },
        "trusted": true,
        "id": "lPYBfk2uk_iJ"
      },
      "execution_count": null,
      "outputs": []
    },
    {
      "cell_type": "markdown",
      "source": [
        "Let's check Test loss and Test accuracy."
      ],
      "metadata": {
        "execution": {
          "iopub.status.busy": "2021-11-16T08:46:03.780741Z",
          "iopub.execute_input": "2021-11-16T08:46:03.78153Z",
          "iopub.status.idle": "2021-11-16T08:46:03.821276Z",
          "shell.execute_reply.started": "2021-11-16T08:46:03.781482Z",
          "shell.execute_reply": "2021-11-16T08:46:03.820626Z"
        },
        "id": "dU17B5b3k_iJ"
      }
    },
    {
      "cell_type": "code",
      "source": [
        "test_loss = loss_fn(pred, y_test)\n",
        "test_acc = (torch.argmax(pred, dim=1) == y_test).float().mean().item()\n",
        "\n",
        "print('Test Loss : {:.4f}'.format(test_loss))\n",
        "print('Test Accuacy : {:.2f} %'.format(test_acc*100))"
      ],
      "metadata": {
        "execution": {
          "iopub.status.busy": "2021-11-16T08:48:14.686564Z",
          "iopub.execute_input": "2021-11-16T08:48:14.686825Z",
          "iopub.status.idle": "2021-11-16T08:48:14.693617Z",
          "shell.execute_reply.started": "2021-11-16T08:48:14.686797Z",
          "shell.execute_reply": "2021-11-16T08:48:14.692938Z"
        },
        "trusted": true,
        "id": "FMbF1jWOk_iK"
      },
      "execution_count": null,
      "outputs": []
    },
    {
      "cell_type": "markdown",
      "source": [
        "### Please **Upvote** if you like my notebook!\n",
        "### Thank you!"
      ],
      "metadata": {
        "id": "FRe-3X-8k_iK"
      }
    }
  ]
}